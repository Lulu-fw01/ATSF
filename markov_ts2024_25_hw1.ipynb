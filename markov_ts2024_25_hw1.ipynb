{
 "cells": [
  {
   "cell_type": "markdown",
   "metadata": {},
   "source": [
    "**Вопрос 1**: Опишите, как изменяется адаптивная способность алгоритма Simple Exponential Smoothing при изменении параметра $\\alpha$ от 0 до 1.\n",
    "\n",
    "$\\alpha$ корректирует прогноз. \n",
    "\n",
    "Изменение $\\alpha$ меняет скорость увелчения прогноза."
   ]
  }
 ],
 "metadata": {
  "language_info": {
   "name": "python"
  }
 },
 "nbformat": 4,
 "nbformat_minor": 2
}
